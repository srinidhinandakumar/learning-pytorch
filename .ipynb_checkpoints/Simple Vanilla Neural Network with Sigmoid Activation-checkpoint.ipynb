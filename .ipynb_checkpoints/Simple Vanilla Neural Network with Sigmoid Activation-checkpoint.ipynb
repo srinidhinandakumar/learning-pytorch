{
 "cells": [
  {
   "cell_type": "code",
   "execution_count": 102,
   "metadata": {
    "collapsed": true
   },
   "outputs": [],
   "source": [
    "import math\n",
    "import pprint"
   ]
  },
  {
   "cell_type": "code",
   "execution_count": 103,
   "metadata": {
    "collapsed": true
   },
   "outputs": [],
   "source": [
    "def sigmoid_activation(z):\n",
    "    try:\n",
    "        ans = math.exp(-z)\n",
    "    except OverflowError:\n",
    "        if(z<0):\n",
    "            ans = math.exp(float('inf'))\n",
    "        else:\n",
    "            ans = math.exp(-float('inf'))\n",
    "    print(ans)\n",
    "    return 1/(1+math.exp(ans))"
   ]
  },
  {
   "cell_type": "code",
   "execution_count": 104,
   "metadata": {
    "collapsed": true
   },
   "outputs": [],
   "source": [
    "def neuron_sigmoid(x,w,b):\n",
    "    z=0\n",
    "    for x_,w_ in zip(x,w):\n",
    "        z+=x_*w_\n",
    "    z+=b\n",
    "    y = sigmoid_activation(z)\n",
    "    return y"
   ]
  },
  {
   "cell_type": "code",
   "execution_count": 105,
   "metadata": {
    "collapsed": true
   },
   "outputs": [],
   "source": [
    "def predict(y):\n",
    "    if y>0.5:\n",
    "        # print(\"Stairs\")\n",
    "        return 1\n",
    "    else:\n",
    "        # print(\"Not Stairs\")\n",
    "        return 0"
   ]
  },
  {
   "cell_type": "code",
   "execution_count": 106,
   "metadata": {
    "collapsed": true
   },
   "outputs": [],
   "source": [
    "def stairs_sigmoid(network, x):\n",
    "    y_left = neuron_sigmoid(x, network[\"w_1\"], network[\"b_left\"])\n",
    "    y_right = neuron_sigmoid(x, network[\"w_2\"], network[\"b_right\"])\n",
    "    y_exp = neuron_sigmoid([y_left, y_right], [network[\"w_left\"], network[\"w_right\"]], network[\"b\"])\n",
    "    return predict(y_exp),y_exp"
   ]
  },
  {
   "cell_type": "code",
   "execution_count": 107,
   "metadata": {
    "collapsed": true
   },
   "outputs": [],
   "source": [
    "def preprocess(data):\n",
    "    preprocessed_data = dict()\n",
    "    for d in data:\n",
    "        line = d.split(\",\")\n",
    "        preprocessed_data[line[0]] = dict()\n",
    "        preprocessed_data[line[0]][\"y\"] = int(line[-1])# label\n",
    "        preprocessed_data[line[0]][\"x\"] = [int(line[1]),int(line[2]),int(line[3]),int(line[4])]\n",
    "    return preprocessed_data"
   ]
  },
  {
   "cell_type": "code",
   "execution_count": 108,
   "metadata": {
    "collapsed": true
   },
   "outputs": [],
   "source": [
    "def forward_propagate(network, data):\n",
    "    y_exp, val = stairs_sigmoid(network, data[\"x\"])\n",
    "    data[\"y-exp\"] = y_exp\n",
    "    data[\"neuron-op\"] = val\n",
    "    #pprint.pprint(data)\n",
    "    return data"
   ]
  },
  {
   "cell_type": "code",
   "execution_count": 109,
   "metadata": {
    "collapsed": true
   },
   "outputs": [],
   "source": [
    "def derivative_sigmoid(z):\n",
    "    return z*(1-z)"
   ]
  },
  {
   "cell_type": "code",
   "execution_count": 110,
   "metadata": {
    "collapsed": true
   },
   "outputs": [],
   "source": [
    "def backprob_error_sigmoid(data):\n",
    "    data[\"backprob-error\"] = (data[\"y\"] - data[\"y-exp\"])*derivative_sigmoid(data[\"neuron-op\"])\n",
    "    return data"
   ]
  },
  {
   "cell_type": "code",
   "execution_count": 111,
   "metadata": {
    "collapsed": true
   },
   "outputs": [],
   "source": [
    "def update_weights(weights,l_rate,data):\n",
    "    new_weights = []\n",
    "    for weight,x in zip(weights, data[\"x\"]):\n",
    "        w_error = weight*data[\"backprob-error\"]*derivative_sigmoid(data[\"neuron-op\"])\n",
    "        w = weight+w_error*l_rate*x\n",
    "        new_weights.append(w)\n",
    "    return new_weights"
   ]
  },
  {
   "cell_type": "code",
   "execution_count": 112,
   "metadata": {
    "collapsed": true
   },
   "outputs": [],
   "source": [
    "def train(network, data, n_epochs, l_rate):\n",
    "    items = list(reversed(list(data.keys())))\n",
    "    for epoch in range(n_epochs):\n",
    "        sum_error = 0\n",
    "        for item in items:\n",
    "            data[item] = forward_propagate(network, data[item])\n",
    "            data[item] = backprob_error_sigmoid(data[item])\n",
    "            sum_error+=math.pow((data[item][\"y-exp\"]-data[item][\"y\"]),2)\n",
    "            network[\"w_1\"] = update_weights(network[\"w_1\"],l_rate,data[item])\n",
    "            #print(\"Weights Left: \",str(network[\"w_1\"]))\n",
    "            network[\"w_2\"] = update_weights(network[\"w_2\"],l_rate,data[item])\n",
    "            #print(\"Weights Right: \",str(network[\"w_2\"]))\n",
    "            print(\"Network weights:\")\n",
    "            pprint.pprint(network)\n",
    "            pprint.pprint(data[item])\n",
    "        print(\"epoch = %d error = %0.5f learning rate = %f\"%(epoch, sum_error, l_rate))"
   ]
  },
  {
   "cell_type": "code",
   "execution_count": 113,
   "metadata": {
    "collapsed": true
   },
   "outputs": [],
   "source": [
    "traindata = open(\"train.csv\").read().split(\"\\n\")[1:] "
   ]
  },
  {
   "cell_type": "code",
   "execution_count": 114,
   "metadata": {
    "collapsed": true
   },
   "outputs": [],
   "source": [
    "preprocessed = preprocess(traindata[:5])"
   ]
  },
  {
   "cell_type": "code",
   "execution_count": 115,
   "metadata": {},
   "outputs": [
    {
     "name": "stdout",
     "output_type": "stream",
     "text": [
      "{'1': {'x': [252, 4, 155, 175], 'y': 1},\n",
      " '2': {'x': [175, 10, 186, 200], 'y': 1},\n",
      " '3': {'x': [82, 131, 230, 100], 'y': 0},\n",
      " '4': {'x': [115, 138, 80, 88], 'y': 0},\n",
      " '5': {'x': [27, 60, 194, 238], 'y': 0}}\n"
     ]
    }
   ],
   "source": [
    "pprint.pprint(preprocessed)"
   ]
  },
  {
   "cell_type": "code",
   "execution_count": 116,
   "metadata": {},
   "outputs": [
    {
     "name": "stdout",
     "output_type": "stream",
     "text": [
      "Network weights:\n",
      "{'b': -1,\n",
      " 'b_left': -0.5,\n",
      " 'b_right': -0.5,\n",
      " 'w_1': [0.002, -0.05, 0.012, 0.012],\n",
      " 'w_2': [-0.05, 0.002, 0.012, 0.012],\n",
      " 'w_left': 3,\n",
      " 'w_right': 3}\n"
     ]
    }
   ],
   "source": [
    "# random initialization of network\n",
    "network = dict()\n",
    "network[\"w_1\"] = [0.002, -0.050, 0.012, 0.012]\n",
    "network[\"w_2\"] = [-0.05, 0.002, 0.012, 0.012]\n",
    "network[\"w_left\"] = 3\n",
    "network[\"w_right\"] = 3\n",
    "network[\"b_left\"] = -0.5\n",
    "network[\"b_right\"] = -0.5\n",
    "network[\"b\"] = -1\n",
    "print(\"Network weights:\")\n",
    "pprint.pprint(network)"
   ]
  },
  {
   "cell_type": "code",
   "execution_count": 117,
   "metadata": {},
   "outputs": [
    {
     "name": "stdout",
     "output_type": "stream",
     "text": [
      "0.17587179269317643\n",
      "0.03161890745936493\n",
      "0.1580691167288489\n",
      "Network weights:\n",
      "{'b': -1,\n",
      " 'b_left': -0.5,\n",
      " 'b_right': -0.5,\n",
      " 'w_1': [0.002, -0.05, 0.012, 0.012],\n",
      " 'w_2': [-0.05, 0.002, 0.012, 0.012],\n",
      " 'w_left': 3,\n",
      " 'w_right': 3}\n",
      "{'backprob-error': 0.0,\n",
      " 'neuron-op': 0.4605647968033191,\n",
      " 'x': [27, 60, 194, 238],\n",
      " 'y': 0,\n",
      " 'y-exp': 0}\n",
      "173.1225975711542\n",
      "52.35251614194462\n",
      "2.718281828459045\n",
      "Network weights:\n",
      "{'b': -1,\n",
      " 'b_left': -0.5,\n",
      " 'b_right': -0.5,\n",
      " 'w_1': [0.002, -0.05, 0.012, 0.012],\n",
      " 'w_2': [-0.05, 0.002, 0.012, 0.012],\n",
      " 'w_left': 3,\n",
      " 'w_right': 3}\n",
      "{'backprob-error': 0.0,\n",
      " 'neuron-op': 0.06190316741499356,\n",
      " 'x': [115, 138, 80, 88],\n",
      " 'y': 0,\n",
      " 'y-exp': 0}\n",
      "18.652869596168426\n",
      "1.459362942875797\n",
      "1.5438906613111822\n",
      "Network weights:\n",
      "{'b': -1,\n",
      " 'b_left': -0.5,\n",
      " 'b_right': -0.5,\n",
      " 'w_1': [0.002, -0.05, 0.012, 0.012],\n",
      " 'w_2': [-0.05, 0.002, 0.012, 0.012],\n",
      " 'w_left': 3,\n",
      " 'w_right': 3}\n",
      "{'backprob-error': 0.0,\n",
      " 'neuron-op': 0.17597039872502673,\n",
      " 'x': [82, 131, 230, 100],\n",
      " 'y': 0,\n",
      " 'y-exp': 0}\n",
      "0.018648305405434242\n",
      "99.28554584670184\n",
      "0.6150730878206786\n",
      "Network weights:\n",
      "{'b': -1,\n",
      " 'b_left': -0.5,\n",
      " 'b_right': -0.5,\n",
      " 'w_1': [0.011078857920813473,\n",
      "         -0.06296979702973354,\n",
      "         0.06989717394073049,\n",
      "         0.07425502574272096],\n",
      " 'w_2': [-0.27697144802033685,\n",
      "         0.0025187918811893414,\n",
      "         0.06989717394073049,\n",
      "         0.07425502574272096],\n",
      " 'w_left': 3,\n",
      " 'w_right': 3}\n",
      "{'backprob-error': 0.22777003340855473,\n",
      " 'neuron-op': 0.35090282835866654,\n",
      " 'x': [175, 10, 186, 200],\n",
      " 'y': 1,\n",
      " 'y-exp': 0}\n",
      "5.826034860999806e-12\n",
      "1.5013075192704215e+20\n"
     ]
    },
    {
     "ename": "OverflowError",
     "evalue": "math range error",
     "output_type": "error",
     "traceback": [
      "\u001b[0;31m---------------------------------------------------------------------------\u001b[0m",
      "\u001b[0;31mOverflowError\u001b[0m                             Traceback (most recent call last)",
      "\u001b[0;32m<ipython-input-117-622dcc154166>\u001b[0m in \u001b[0;36m<module>\u001b[0;34m()\u001b[0m\n\u001b[0;32m----> 1\u001b[0;31m \u001b[0mtrain\u001b[0m\u001b[0;34m(\u001b[0m\u001b[0mnetwork\u001b[0m\u001b[0;34m,\u001b[0m \u001b[0mpreprocessed\u001b[0m\u001b[0;34m,\u001b[0m \u001b[0;36m10\u001b[0m\u001b[0;34m,\u001b[0m \u001b[0;36m0.5\u001b[0m\u001b[0;34m)\u001b[0m\u001b[0;34m\u001b[0m\u001b[0m\n\u001b[0m",
      "\u001b[0;32m<ipython-input-112-b66936b97eef>\u001b[0m in \u001b[0;36mtrain\u001b[0;34m(network, data, n_epochs, l_rate)\u001b[0m\n\u001b[1;32m      4\u001b[0m         \u001b[0msum_error\u001b[0m \u001b[0;34m=\u001b[0m \u001b[0;36m0\u001b[0m\u001b[0;34m\u001b[0m\u001b[0m\n\u001b[1;32m      5\u001b[0m         \u001b[0;32mfor\u001b[0m \u001b[0mitem\u001b[0m \u001b[0;32min\u001b[0m \u001b[0mitems\u001b[0m\u001b[0;34m:\u001b[0m\u001b[0;34m\u001b[0m\u001b[0m\n\u001b[0;32m----> 6\u001b[0;31m             \u001b[0mdata\u001b[0m\u001b[0;34m[\u001b[0m\u001b[0mitem\u001b[0m\u001b[0;34m]\u001b[0m \u001b[0;34m=\u001b[0m \u001b[0mforward_propagate\u001b[0m\u001b[0;34m(\u001b[0m\u001b[0mnetwork\u001b[0m\u001b[0;34m,\u001b[0m \u001b[0mdata\u001b[0m\u001b[0;34m[\u001b[0m\u001b[0mitem\u001b[0m\u001b[0;34m]\u001b[0m\u001b[0;34m)\u001b[0m\u001b[0;34m\u001b[0m\u001b[0m\n\u001b[0m\u001b[1;32m      7\u001b[0m             \u001b[0mdata\u001b[0m\u001b[0;34m[\u001b[0m\u001b[0mitem\u001b[0m\u001b[0;34m]\u001b[0m \u001b[0;34m=\u001b[0m \u001b[0mbackprob_error_sigmoid\u001b[0m\u001b[0;34m(\u001b[0m\u001b[0mdata\u001b[0m\u001b[0;34m[\u001b[0m\u001b[0mitem\u001b[0m\u001b[0;34m]\u001b[0m\u001b[0;34m)\u001b[0m\u001b[0;34m\u001b[0m\u001b[0m\n\u001b[1;32m      8\u001b[0m             \u001b[0msum_error\u001b[0m\u001b[0;34m+=\u001b[0m\u001b[0mmath\u001b[0m\u001b[0;34m.\u001b[0m\u001b[0mpow\u001b[0m\u001b[0;34m(\u001b[0m\u001b[0;34m(\u001b[0m\u001b[0mdata\u001b[0m\u001b[0;34m[\u001b[0m\u001b[0mitem\u001b[0m\u001b[0;34m]\u001b[0m\u001b[0;34m[\u001b[0m\u001b[0;34m\"y-exp\"\u001b[0m\u001b[0;34m]\u001b[0m\u001b[0;34m-\u001b[0m\u001b[0mdata\u001b[0m\u001b[0;34m[\u001b[0m\u001b[0mitem\u001b[0m\u001b[0;34m]\u001b[0m\u001b[0;34m[\u001b[0m\u001b[0;34m\"y\"\u001b[0m\u001b[0;34m]\u001b[0m\u001b[0;34m)\u001b[0m\u001b[0;34m,\u001b[0m\u001b[0;36m2\u001b[0m\u001b[0;34m)\u001b[0m\u001b[0;34m\u001b[0m\u001b[0m\n",
      "\u001b[0;32m<ipython-input-108-6a1e41c26dff>\u001b[0m in \u001b[0;36mforward_propagate\u001b[0;34m(network, data)\u001b[0m\n\u001b[1;32m      1\u001b[0m \u001b[0;32mdef\u001b[0m \u001b[0mforward_propagate\u001b[0m\u001b[0;34m(\u001b[0m\u001b[0mnetwork\u001b[0m\u001b[0;34m,\u001b[0m \u001b[0mdata\u001b[0m\u001b[0;34m)\u001b[0m\u001b[0;34m:\u001b[0m\u001b[0;34m\u001b[0m\u001b[0m\n\u001b[0;32m----> 2\u001b[0;31m     \u001b[0my_exp\u001b[0m\u001b[0;34m,\u001b[0m \u001b[0mval\u001b[0m \u001b[0;34m=\u001b[0m \u001b[0mstairs_sigmoid\u001b[0m\u001b[0;34m(\u001b[0m\u001b[0mnetwork\u001b[0m\u001b[0;34m,\u001b[0m \u001b[0mdata\u001b[0m\u001b[0;34m[\u001b[0m\u001b[0;34m\"x\"\u001b[0m\u001b[0;34m]\u001b[0m\u001b[0;34m)\u001b[0m\u001b[0;34m\u001b[0m\u001b[0m\n\u001b[0m\u001b[1;32m      3\u001b[0m     \u001b[0mdata\u001b[0m\u001b[0;34m[\u001b[0m\u001b[0;34m\"y-exp\"\u001b[0m\u001b[0;34m]\u001b[0m \u001b[0;34m=\u001b[0m \u001b[0my_exp\u001b[0m\u001b[0;34m\u001b[0m\u001b[0m\n\u001b[1;32m      4\u001b[0m     \u001b[0mdata\u001b[0m\u001b[0;34m[\u001b[0m\u001b[0;34m\"neuron-op\"\u001b[0m\u001b[0;34m]\u001b[0m \u001b[0;34m=\u001b[0m \u001b[0mval\u001b[0m\u001b[0;34m\u001b[0m\u001b[0m\n\u001b[1;32m      5\u001b[0m     \u001b[0;31m#pprint.pprint(data)\u001b[0m\u001b[0;34m\u001b[0m\u001b[0;34m\u001b[0m\u001b[0m\n",
      "\u001b[0;32m<ipython-input-106-ab3b5fae993e>\u001b[0m in \u001b[0;36mstairs_sigmoid\u001b[0;34m(network, x)\u001b[0m\n\u001b[1;32m      1\u001b[0m \u001b[0;32mdef\u001b[0m \u001b[0mstairs_sigmoid\u001b[0m\u001b[0;34m(\u001b[0m\u001b[0mnetwork\u001b[0m\u001b[0;34m,\u001b[0m \u001b[0mx\u001b[0m\u001b[0;34m)\u001b[0m\u001b[0;34m:\u001b[0m\u001b[0;34m\u001b[0m\u001b[0m\n\u001b[1;32m      2\u001b[0m     \u001b[0my_left\u001b[0m \u001b[0;34m=\u001b[0m \u001b[0mneuron_sigmoid\u001b[0m\u001b[0;34m(\u001b[0m\u001b[0mx\u001b[0m\u001b[0;34m,\u001b[0m \u001b[0mnetwork\u001b[0m\u001b[0;34m[\u001b[0m\u001b[0;34m\"w_1\"\u001b[0m\u001b[0;34m]\u001b[0m\u001b[0;34m,\u001b[0m \u001b[0mnetwork\u001b[0m\u001b[0;34m[\u001b[0m\u001b[0;34m\"b_left\"\u001b[0m\u001b[0;34m]\u001b[0m\u001b[0;34m)\u001b[0m\u001b[0;34m\u001b[0m\u001b[0m\n\u001b[0;32m----> 3\u001b[0;31m     \u001b[0my_right\u001b[0m \u001b[0;34m=\u001b[0m \u001b[0mneuron_sigmoid\u001b[0m\u001b[0;34m(\u001b[0m\u001b[0mx\u001b[0m\u001b[0;34m,\u001b[0m \u001b[0mnetwork\u001b[0m\u001b[0;34m[\u001b[0m\u001b[0;34m\"w_2\"\u001b[0m\u001b[0;34m]\u001b[0m\u001b[0;34m,\u001b[0m \u001b[0mnetwork\u001b[0m\u001b[0;34m[\u001b[0m\u001b[0;34m\"b_right\"\u001b[0m\u001b[0;34m]\u001b[0m\u001b[0;34m)\u001b[0m\u001b[0;34m\u001b[0m\u001b[0m\n\u001b[0m\u001b[1;32m      4\u001b[0m     \u001b[0my_exp\u001b[0m \u001b[0;34m=\u001b[0m \u001b[0mneuron_sigmoid\u001b[0m\u001b[0;34m(\u001b[0m\u001b[0;34m[\u001b[0m\u001b[0my_left\u001b[0m\u001b[0;34m,\u001b[0m \u001b[0my_right\u001b[0m\u001b[0;34m]\u001b[0m\u001b[0;34m,\u001b[0m \u001b[0;34m[\u001b[0m\u001b[0mnetwork\u001b[0m\u001b[0;34m[\u001b[0m\u001b[0;34m\"w_left\"\u001b[0m\u001b[0;34m]\u001b[0m\u001b[0;34m,\u001b[0m \u001b[0mnetwork\u001b[0m\u001b[0;34m[\u001b[0m\u001b[0;34m\"w_right\"\u001b[0m\u001b[0;34m]\u001b[0m\u001b[0;34m]\u001b[0m\u001b[0;34m,\u001b[0m \u001b[0mnetwork\u001b[0m\u001b[0;34m[\u001b[0m\u001b[0;34m\"b\"\u001b[0m\u001b[0;34m]\u001b[0m\u001b[0;34m)\u001b[0m\u001b[0;34m\u001b[0m\u001b[0m\n\u001b[1;32m      5\u001b[0m     \u001b[0;32mreturn\u001b[0m \u001b[0mpredict\u001b[0m\u001b[0;34m(\u001b[0m\u001b[0my_exp\u001b[0m\u001b[0;34m)\u001b[0m\u001b[0;34m,\u001b[0m\u001b[0my_exp\u001b[0m\u001b[0;34m\u001b[0m\u001b[0m\n",
      "\u001b[0;32m<ipython-input-104-6ff451805180>\u001b[0m in \u001b[0;36mneuron_sigmoid\u001b[0;34m(x, w, b)\u001b[0m\n\u001b[1;32m      4\u001b[0m         \u001b[0mz\u001b[0m\u001b[0;34m+=\u001b[0m\u001b[0mx_\u001b[0m\u001b[0;34m*\u001b[0m\u001b[0mw_\u001b[0m\u001b[0;34m\u001b[0m\u001b[0m\n\u001b[1;32m      5\u001b[0m     \u001b[0mz\u001b[0m\u001b[0;34m+=\u001b[0m\u001b[0mb\u001b[0m\u001b[0;34m\u001b[0m\u001b[0m\n\u001b[0;32m----> 6\u001b[0;31m     \u001b[0my\u001b[0m \u001b[0;34m=\u001b[0m \u001b[0msigmoid_activation\u001b[0m\u001b[0;34m(\u001b[0m\u001b[0mz\u001b[0m\u001b[0;34m)\u001b[0m\u001b[0;34m\u001b[0m\u001b[0m\n\u001b[0m\u001b[1;32m      7\u001b[0m     \u001b[0;32mreturn\u001b[0m \u001b[0my\u001b[0m\u001b[0;34m\u001b[0m\u001b[0m\n",
      "\u001b[0;32m<ipython-input-103-c2cdf4e878b9>\u001b[0m in \u001b[0;36msigmoid_activation\u001b[0;34m(z)\u001b[0m\n\u001b[1;32m      8\u001b[0m             \u001b[0mans\u001b[0m \u001b[0;34m=\u001b[0m \u001b[0mmath\u001b[0m\u001b[0;34m.\u001b[0m\u001b[0mexp\u001b[0m\u001b[0;34m(\u001b[0m\u001b[0;34m-\u001b[0m\u001b[0mfloat\u001b[0m\u001b[0;34m(\u001b[0m\u001b[0;34m'inf'\u001b[0m\u001b[0;34m)\u001b[0m\u001b[0;34m)\u001b[0m\u001b[0;34m\u001b[0m\u001b[0m\n\u001b[1;32m      9\u001b[0m     \u001b[0mprint\u001b[0m\u001b[0;34m(\u001b[0m\u001b[0mans\u001b[0m\u001b[0;34m)\u001b[0m\u001b[0;34m\u001b[0m\u001b[0m\n\u001b[0;32m---> 10\u001b[0;31m     \u001b[0;32mreturn\u001b[0m \u001b[0;36m1\u001b[0m\u001b[0;34m/\u001b[0m\u001b[0;34m(\u001b[0m\u001b[0;36m1\u001b[0m\u001b[0;34m+\u001b[0m\u001b[0mmath\u001b[0m\u001b[0;34m.\u001b[0m\u001b[0mexp\u001b[0m\u001b[0;34m(\u001b[0m\u001b[0mans\u001b[0m\u001b[0;34m)\u001b[0m\u001b[0;34m)\u001b[0m\u001b[0;34m\u001b[0m\u001b[0m\n\u001b[0m",
      "\u001b[0;31mOverflowError\u001b[0m: math range error"
     ]
    }
   ],
   "source": [
    "train(network, preprocessed, 10, 0.5)"
   ]
  },
  {
   "cell_type": "code",
   "execution_count": null,
   "metadata": {
    "collapsed": true
   },
   "outputs": [],
   "source": []
  }
 ],
 "metadata": {
  "kernelspec": {
   "display_name": "Python 3",
   "language": "python",
   "name": "python3"
  },
  "language_info": {
   "codemirror_mode": {
    "name": "ipython",
    "version": 3
   },
   "file_extension": ".py",
   "mimetype": "text/x-python",
   "name": "python",
   "nbconvert_exporter": "python",
   "pygments_lexer": "ipython3",
   "version": "3.6.3"
  }
 },
 "nbformat": 4,
 "nbformat_minor": 2
}
