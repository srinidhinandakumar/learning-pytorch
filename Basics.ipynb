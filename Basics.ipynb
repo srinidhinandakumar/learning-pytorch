{
 "cells": [
  {
   "cell_type": "code",
   "execution_count": 41,
   "metadata": {
    "collapsed": true
   },
   "outputs": [],
   "source": [
    "from __future__ import print_function\n",
    "import torch\n",
    "import numpy as np"
   ]
  },
  {
   "cell_type": "code",
   "execution_count": 2,
   "metadata": {},
   "outputs": [
    {
     "name": "stdout",
     "output_type": "stream",
     "text": [
      "tensor(1.00000e-19 *\n",
      "       [[ 0.0000,  1.0842,  0.0000],\n",
      "        [ 1.0842,  0.0000,  0.0000],\n",
      "        [ 0.0000,  0.0000,  0.0000],\n",
      "        [ 0.0000,  0.0000,  0.0000],\n",
      "        [ 0.0000,  1.0842,  0.0000]])\n"
     ]
    }
   ],
   "source": [
    "x = torch.empty(5,3) #unititalized\n",
    "print(x)"
   ]
  },
  {
   "cell_type": "code",
   "execution_count": 20,
   "metadata": {},
   "outputs": [
    {
     "name": "stdout",
     "output_type": "stream",
     "text": [
      "tensor([[ 0.1897,  0.4886,  0.0064],\n",
      "        [ 0.7217,  0.9045,  0.3936],\n",
      "        [ 0.1791,  0.3909,  0.4065],\n",
      "        [ 0.1704,  0.4107,  0.3348],\n",
      "        [ 0.1504,  0.0869,  0.9052]])\n"
     ]
    }
   ],
   "source": [
    "x = torch.rand(5,3) #random\n",
    "print(x)"
   ]
  },
  {
   "cell_type": "code",
   "execution_count": 6,
   "metadata": {},
   "outputs": [
    {
     "name": "stdout",
     "output_type": "stream",
     "text": [
      "tensor([[ 0,  0,  0],\n",
      "        [ 0,  0,  0],\n",
      "        [ 0,  0,  0],\n",
      "        [ 0,  0,  0],\n",
      "        [ 0,  0,  0]])\n"
     ]
    }
   ],
   "source": [
    "x = torch.zeros(5,3, dtype=torch.long) #torch.long = long datatype\n",
    "print(x)"
   ]
  },
  {
   "cell_type": "code",
   "execution_count": 17,
   "metadata": {},
   "outputs": [
    {
     "name": "stdout",
     "output_type": "stream",
     "text": [
      "tensor([ 5.3000,  3.0000])\n"
     ]
    }
   ],
   "source": [
    "x = torch.tensor([5.3, 3])\n",
    "print(x)"
   ]
  },
  {
   "cell_type": "code",
   "execution_count": 14,
   "metadata": {},
   "outputs": [
    {
     "name": "stdout",
     "output_type": "stream",
     "text": [
      "tensor([[ 1.,  1.,  1.],\n",
      "        [ 1.,  1.,  1.],\n",
      "        [ 1.,  1.,  1.],\n",
      "        [ 1.,  1.,  1.],\n",
      "        [ 1.,  1.,  1.]])\n"
     ]
    }
   ],
   "source": [
    "x = torch.ones(5,3)\n",
    "print(x)"
   ]
  },
  {
   "cell_type": "code",
   "execution_count": 19,
   "metadata": {},
   "outputs": [
    {
     "name": "stdout",
     "output_type": "stream",
     "text": [
      "tensor([[ 1.,  1.,  1.],\n",
      "        [ 1.,  1.,  1.],\n",
      "        [ 1.,  1.,  1.],\n",
      "        [ 1.,  1.,  1.],\n",
      "        [ 1.,  1.,  1.]])\n"
     ]
    }
   ],
   "source": [
    "x = x.new_ones(5,3)\n",
    "print(x)"
   ]
  },
  {
   "cell_type": "code",
   "execution_count": 23,
   "metadata": {},
   "outputs": [
    {
     "name": "stdout",
     "output_type": "stream",
     "text": [
      "tensor([[ 0.7916,  0.1553,  0.9881],\n",
      "        [ 0.2019,  0.0901,  0.8665],\n",
      "        [ 0.6681,  0.5931,  0.9601],\n",
      "        [ 0.2351,  0.8086,  0.8808],\n",
      "        [ 0.1138,  0.3276,  0.3167]])\n"
     ]
    }
   ],
   "source": [
    "y = torch.rand(5,3)\n",
    "print(y)"
   ]
  },
  {
   "cell_type": "code",
   "execution_count": 24,
   "metadata": {},
   "outputs": [
    {
     "name": "stdout",
     "output_type": "stream",
     "text": [
      "tensor([[ 0.9813,  0.6439,  0.9945],\n",
      "        [ 0.9236,  0.9946,  1.2601],\n",
      "        [ 0.8472,  0.9840,  1.3666],\n",
      "        [ 0.4055,  1.2193,  1.2156],\n",
      "        [ 0.2642,  0.4145,  1.2219]])\n"
     ]
    }
   ],
   "source": [
    "print(x+y) # addition syntax1"
   ]
  },
  {
   "cell_type": "code",
   "execution_count": 25,
   "metadata": {},
   "outputs": [
    {
     "name": "stdout",
     "output_type": "stream",
     "text": [
      "tensor([[ 0.9813,  0.6439,  0.9945],\n",
      "        [ 0.9236,  0.9946,  1.2601],\n",
      "        [ 0.8472,  0.9840,  1.3666],\n",
      "        [ 0.4055,  1.2193,  1.2156],\n",
      "        [ 0.2642,  0.4145,  1.2219]])\n"
     ]
    }
   ],
   "source": [
    "print(torch.add(x,y)) # addition syntax2"
   ]
  },
  {
   "cell_type": "code",
   "execution_count": 26,
   "metadata": {},
   "outputs": [
    {
     "name": "stdout",
     "output_type": "stream",
     "text": [
      "tensor([[ 0.9813,  0.6439,  0.9945],\n",
      "        [ 0.9236,  0.9946,  1.2601],\n",
      "        [ 0.8472,  0.9840,  1.3666],\n",
      "        [ 0.4055,  1.2193,  1.2156],\n",
      "        [ 0.2642,  0.4145,  1.2219]])\n"
     ]
    }
   ],
   "source": [
    "x.add_(y) #in place\n",
    "print(x)"
   ]
  },
  {
   "cell_type": "code",
   "execution_count": 34,
   "metadata": {},
   "outputs": [
    {
     "name": "stdout",
     "output_type": "stream",
     "text": [
      "tensor([ 0.6439,  0.9946,  0.9840,  1.2193,  0.4145])\n",
      "torch.Size([5])\n"
     ]
    }
   ],
   "source": [
    "print(x[:,1])\n",
    "z = x[:,1]\n",
    "print(z.size())"
   ]
  },
  {
   "cell_type": "code",
   "execution_count": 28,
   "metadata": {},
   "outputs": [
    {
     "name": "stdout",
     "output_type": "stream",
     "text": [
      "tensor([ 0.8472,  0.9840,  1.3666])\n"
     ]
    }
   ],
   "source": [
    "print(x[2,:])"
   ]
  },
  {
   "cell_type": "code",
   "execution_count": 39,
   "metadata": {},
   "outputs": [
    {
     "name": "stdout",
     "output_type": "stream",
     "text": [
      "1.3665764331817627\n"
     ]
    }
   ],
   "source": [
    "p = x[2,2]\n",
    "print(p.item()) # convert one element tensors to numeric"
   ]
  },
  {
   "cell_type": "code",
   "execution_count": 40,
   "metadata": {},
   "outputs": [
    {
     "name": "stdout",
     "output_type": "stream",
     "text": [
      "tensor([[ 0.9813,  0.6439,  0.9945],\n",
      "        [ 0.9236,  0.9946,  1.2601],\n",
      "        [ 0.8472,  0.9840,  1.3666],\n",
      "        [ 0.4055,  1.2193,  1.2156],\n",
      "        [ 0.2642,  0.4145,  1.2219]])\n"
     ]
    }
   ],
   "source": [
    "print(x)"
   ]
  },
  {
   "cell_type": "code",
   "execution_count": 46,
   "metadata": {
    "collapsed": true
   },
   "outputs": [],
   "source": [
    "a = x.numpy()"
   ]
  },
  {
   "cell_type": "code",
   "execution_count": 47,
   "metadata": {},
   "outputs": [
    {
     "name": "stdout",
     "output_type": "stream",
     "text": [
      "[[0.981289   0.64387035 0.99452186]\n",
      " [0.9235815  0.9945537  1.260104  ]\n",
      " [0.8472345  0.9839688  1.3665764 ]\n",
      " [0.40554816 1.2193027  1.2156062 ]\n",
      " [0.2641827  0.41454935 1.2218981 ]]\n"
     ]
    }
   ],
   "source": [
    "print(a)"
   ]
  },
  {
   "cell_type": "code",
   "execution_count": 50,
   "metadata": {},
   "outputs": [
    {
     "data": {
      "text/plain": [
       "tensor([[ 1.9813,  1.6439,  1.9945],\n",
       "        [ 1.9236,  1.9946,  2.2601],\n",
       "        [ 1.8472,  1.9840,  2.3666],\n",
       "        [ 1.4055,  2.2193,  2.2156],\n",
       "        [ 1.2642,  1.4145,  2.2219]])"
      ]
     },
     "execution_count": 50,
     "metadata": {},
     "output_type": "execute_result"
    }
   ],
   "source": [
    "x.add_(1) # adding 1 to all elements in place"
   ]
  },
  {
   "cell_type": "code",
   "execution_count": 51,
   "metadata": {},
   "outputs": [
    {
     "name": "stdout",
     "output_type": "stream",
     "text": [
      "[[1.981289  1.6438704 1.9945219]\n",
      " [1.9235815 1.9945537 2.260104 ]\n",
      " [1.8472345 1.9839687 2.3665764]\n",
      " [1.4055481 2.2193027 2.2156062]\n",
      " [1.2641827 1.4145494 2.221898 ]]\n"
     ]
    }
   ],
   "source": [
    "print(a) #affects numpy array too"
   ]
  },
  {
   "cell_type": "code",
   "execution_count": null,
   "metadata": {
    "collapsed": true
   },
   "outputs": [],
   "source": []
  }
 ],
 "metadata": {
  "kernelspec": {
   "display_name": "Python 3",
   "language": "python",
   "name": "python3"
  },
  "language_info": {
   "codemirror_mode": {
    "name": "ipython",
    "version": 3
   },
   "file_extension": ".py",
   "mimetype": "text/x-python",
   "name": "python",
   "nbconvert_exporter": "python",
   "pygments_lexer": "ipython3",
   "version": "3.6.3"
  }
 },
 "nbformat": 4,
 "nbformat_minor": 2
}
