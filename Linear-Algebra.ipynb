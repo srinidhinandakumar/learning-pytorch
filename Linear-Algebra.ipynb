{
 "cells": [
  {
   "cell_type": "code",
   "execution_count": 3,
   "metadata": {},
   "outputs": [
    {
     "name": "stdout",
     "output_type": "stream",
     "text": [
      "0.4.0\n"
     ]
    }
   ],
   "source": [
    "from __future__ import print_function\n",
    "import torch\n",
    "print(torch.__version__)"
   ]
  },
  {
   "cell_type": "code",
   "execution_count": 4,
   "metadata": {
    "collapsed": true
   },
   "outputs": [],
   "source": [
    "a = torch.Tensor([26])"
   ]
  },
  {
   "cell_type": "code",
   "execution_count": 5,
   "metadata": {},
   "outputs": [
    {
     "name": "stdout",
     "output_type": "stream",
     "text": [
      "<class 'torch.Tensor'>\n"
     ]
    }
   ],
   "source": [
    "print(type(a))"
   ]
  },
  {
   "cell_type": "code",
   "execution_count": 6,
   "metadata": {},
   "outputs": [
    {
     "name": "stdout",
     "output_type": "stream",
     "text": [
      "torch.Size([1])\n"
     ]
    }
   ],
   "source": [
    "print(a.shape)"
   ]
  },
  {
   "cell_type": "code",
   "execution_count": 7,
   "metadata": {
    "collapsed": true
   },
   "outputs": [],
   "source": [
    "t = torch.Tensor(5,3)"
   ]
  },
  {
   "cell_type": "code",
   "execution_count": 8,
   "metadata": {},
   "outputs": [
    {
     "name": "stdout",
     "output_type": "stream",
     "text": [
      "<class 'torch.Tensor'>\n"
     ]
    }
   ],
   "source": [
    "print(type(t))"
   ]
  },
  {
   "cell_type": "code",
   "execution_count": 9,
   "metadata": {},
   "outputs": [
    {
     "name": "stdout",
     "output_type": "stream",
     "text": [
      "torch.Size([5, 3])\n"
     ]
    }
   ],
   "source": [
    "print(t.shape)"
   ]
  },
  {
   "cell_type": "code",
   "execution_count": 10,
   "metadata": {},
   "outputs": [
    {
     "name": "stdout",
     "output_type": "stream",
     "text": [
      "tensor([[ 0.0000,  2.0000,  0.0000],\n",
      "        [ 2.0000,  0.0000,  0.0000],\n",
      "        [ 0.0000,  0.0000,  0.0000],\n",
      "        [ 0.0000,  0.0000,  0.0000],\n",
      "        [ 0.0000,  0.0000,  0.0000]])\n"
     ]
    }
   ],
   "source": [
    "print(t)"
   ]
  },
  {
   "cell_type": "code",
   "execution_count": 11,
   "metadata": {
    "collapsed": true
   },
   "outputs": [],
   "source": [
    "p = torch.Tensor(4,4)"
   ]
  },
  {
   "cell_type": "code",
   "execution_count": 12,
   "metadata": {
    "collapsed": true
   },
   "outputs": [],
   "source": [
    "q = torch.Tensor(4,4)"
   ]
  },
  {
   "cell_type": "code",
   "execution_count": 13,
   "metadata": {
    "collapsed": true
   },
   "outputs": [],
   "source": [
    "ones = torch.ones(4,4)"
   ]
  },
  {
   "cell_type": "code",
   "execution_count": 14,
   "metadata": {},
   "outputs": [
    {
     "name": "stdout",
     "output_type": "stream",
     "text": [
      "tensor([[ 0.0000e+00,  2.0000e+00, -3.3496e+11,  2.0005e+00],\n",
      "        [ 8.3045e-14,  4.5801e-41,  8.3413e-14,  4.5801e-41],\n",
      "        [ 8.3414e-14,  4.5801e-41,  0.0000e+00,  4.2039e-45],\n",
      "        [ 0.0000e+00,  0.0000e+00, -3.2792e+11,  3.7020e-40]]) tensor([[ 0.0000,  2.0000,  0.0000,  2.0000],\n",
      "        [ 0.0000,  0.0000,  0.0000,  0.0000],\n",
      "        [ 0.0000,  0.0000,  0.0000,  0.0000],\n",
      "        [ 0.0000,  2.0000,  0.0000,  2.0000]]) tensor([[ 1.,  1.,  1.,  1.],\n",
      "        [ 1.,  1.,  1.,  1.],\n",
      "        [ 1.,  1.,  1.,  1.],\n",
      "        [ 1.,  1.,  1.,  1.]])\n"
     ]
    }
   ],
   "source": [
    "print(p,q,ones)"
   ]
  },
  {
   "cell_type": "code",
   "execution_count": 15,
   "metadata": {},
   "outputs": [
    {
     "name": "stdout",
     "output_type": "stream",
     "text": [
      "tensor([[ 0.0000e+00,  4.0000e+00, -3.3496e+11,  4.0005e+00],\n",
      "        [ 8.3045e-14,  4.5801e-41,  8.3413e-14,  4.5801e-41],\n",
      "        [ 8.3414e-14,  4.5801e-41,  0.0000e+00,  4.2039e-45],\n",
      "        [ 0.0000e+00,  2.0000e+00, -3.2792e+11,  2.0000e+00]])\n"
     ]
    }
   ],
   "source": [
    "print(p+q)"
   ]
  },
  {
   "cell_type": "code",
   "execution_count": 16,
   "metadata": {},
   "outputs": [
    {
     "name": "stdout",
     "output_type": "stream",
     "text": [
      "tensor([[ 0.0000e+00,  0.0000e+00, -3.3496e+11,  4.8685e-04],\n",
      "        [ 8.3045e-14,  4.5801e-41,  8.3413e-14,  4.5801e-41],\n",
      "        [ 8.3414e-14,  4.5801e-41,  0.0000e+00,  4.2039e-45],\n",
      "        [ 0.0000e+00, -2.0000e+00, -3.2792e+11, -2.0000e+00]])\n"
     ]
    }
   ],
   "source": [
    "print(p-q)"
   ]
  },
  {
   "cell_type": "code",
   "execution_count": 17,
   "metadata": {},
   "outputs": [
    {
     "name": "stdout",
     "output_type": "stream",
     "text": [
      "tensor([[-1.0000e+00,  1.0000e+00, -3.3496e+11,  1.0005e+00],\n",
      "        [-1.0000e+00, -1.0000e+00, -1.0000e+00, -1.0000e+00],\n",
      "        [-1.0000e+00, -1.0000e+00, -1.0000e+00, -1.0000e+00],\n",
      "        [-1.0000e+00, -1.0000e+00, -3.2792e+11, -1.0000e+00]])\n"
     ]
    }
   ],
   "source": [
    "print(p-ones)"
   ]
  },
  {
   "cell_type": "code",
   "execution_count": 18,
   "metadata": {},
   "outputs": [
    {
     "name": "stdout",
     "output_type": "stream",
     "text": [
      "tensor([[ 0.0000,  4.0000, -0.0000,  4.0010],\n",
      "        [ 0.0000,  0.0000,  0.0000,  0.0000],\n",
      "        [ 0.0000,  0.0000,  0.0000,  0.0000],\n",
      "        [ 0.0000,  0.0000, -0.0000,  0.0000]])\n"
     ]
    }
   ],
   "source": [
    "print(p*q)"
   ]
  },
  {
   "cell_type": "code",
   "execution_count": 19,
   "metadata": {},
   "outputs": [
    {
     "name": "stdout",
     "output_type": "stream",
     "text": [
      "tensor([[ 0.0000e+00,  2.0000e+00, -3.3496e+11,  2.0005e+00],\n",
      "        [ 8.3045e-14,  4.5801e-41,  8.3413e-14,  4.5801e-41],\n",
      "        [ 8.3414e-14,  4.5801e-41,  0.0000e+00,  4.2039e-45],\n",
      "        [ 0.0000e+00,  0.0000e+00, -3.2792e+11,  3.7020e-40]])\n"
     ]
    }
   ],
   "source": [
    "print(p*ones)"
   ]
  },
  {
   "cell_type": "code",
   "execution_count": 20,
   "metadata": {},
   "outputs": [
    {
     "name": "stdout",
     "output_type": "stream",
     "text": [
      "tensor([[ 0.0000,  2.0000,  0.0000,  2.0000],\n",
      "        [ 0.0000,  0.0000,  0.0000,  0.0000],\n",
      "        [ 0.0000,  0.0000,  0.0000,  0.0000],\n",
      "        [ 0.0000,  2.0000,  0.0000,  2.0000]])\n"
     ]
    }
   ],
   "source": [
    "print(q/ones)"
   ]
  },
  {
   "cell_type": "code",
   "execution_count": 21,
   "metadata": {},
   "outputs": [
    {
     "name": "stdout",
     "output_type": "stream",
     "text": [
      "tensor([[        nan,  1.0000e+00,        -inf,  1.0002e+00],\n",
      "        [ 8.4661e+30,         inf,         inf,         inf],\n",
      "        [        inf,         inf,         nan,         inf],\n",
      "        [        nan,  0.0000e+00,        -inf,  1.8510e-40]])\n"
     ]
    }
   ],
   "source": [
    "print(p/q)"
   ]
  },
  {
   "cell_type": "code",
   "execution_count": 22,
   "metadata": {},
   "outputs": [
    {
     "name": "stdout",
     "output_type": "stream",
     "text": [
      "tensor([[ 0.0000,  2.0000,  0.0000],\n",
      "        [ 2.0000,  0.0000,  0.0000],\n",
      "        [ 0.0000,  0.0000,  0.0000],\n",
      "        [ 0.0000,  0.0000,  0.0000],\n",
      "        [ 0.0000,  0.0000,  0.0000]])\n"
     ]
    }
   ],
   "source": [
    "x = torch.empty(5, 3)\n",
    "print(x)"
   ]
  },
  {
   "cell_type": "code",
   "execution_count": 23,
   "metadata": {},
   "outputs": [
    {
     "name": "stdout",
     "output_type": "stream",
     "text": [
      "tensor([[ 0.0000e+00,  4.0000e+00, -3.3496e+11,  4.0005e+00],\n",
      "        [ 8.3045e-14,  4.5801e-41,  8.3413e-14,  4.5801e-41],\n",
      "        [ 8.3414e-14,  4.5801e-41,  0.0000e+00,  4.2039e-45],\n",
      "        [ 0.0000e+00,  2.0000e+00, -3.2792e+11,  2.0000e+00]])\n"
     ]
    }
   ],
   "source": [
    "result=torch.Tensor(4,4)\n",
    "torch.add(p,q,out=result)\n",
    "print(result)"
   ]
  },
  {
   "cell_type": "code",
   "execution_count": 24,
   "metadata": {},
   "outputs": [
    {
     "name": "stdout",
     "output_type": "stream",
     "text": [
      "tensor([[ 0.0000e+00,  4.0000e+00, -3.3496e+11,  4.0005e+00],\n",
      "        [ 8.3045e-14,  4.5801e-41,  8.3413e-14,  4.5801e-41],\n",
      "        [ 8.3414e-14,  4.5801e-41,  0.0000e+00,  4.2039e-45],\n",
      "        [ 0.0000e+00,  2.0000e+00, -3.2792e+11,  2.0000e+00]])\n"
     ]
    }
   ],
   "source": [
    "#add in place\n",
    "q.add_(p)\n",
    "print(q)"
   ]
  },
  {
   "cell_type": "code",
   "execution_count": 25,
   "metadata": {},
   "outputs": [
    {
     "data": {
      "text/plain": [
       "tensor(1.00000e-14 *\n",
       "       [ 0.0000,  8.3045,  8.3414,  0.0000])"
      ]
     },
     "execution_count": 25,
     "metadata": {},
     "output_type": "execute_result"
    }
   ],
   "source": [
    "q[:,0]"
   ]
  },
  {
   "cell_type": "code",
   "execution_count": 26,
   "metadata": {},
   "outputs": [
    {
     "name": "stdout",
     "output_type": "stream",
     "text": [
      "tensor([ 0.0000e+00,  4.0000e+00, -3.3496e+11,  4.0005e+00,  8.3045e-14,\n",
      "         4.5801e-41,  8.3413e-14,  4.5801e-41,  8.3414e-14,  4.5801e-41,\n",
      "         0.0000e+00,  4.2039e-45,  0.0000e+00,  2.0000e+00, -3.2792e+11,\n",
      "         2.0000e+00])\n"
     ]
    }
   ],
   "source": [
    "print(q.view(16)) # resize tensor"
   ]
  }
 ],
 "metadata": {
  "kernelspec": {
   "display_name": "Python 3",
   "language": "python",
   "name": "python3"
  },
  "language_info": {
   "codemirror_mode": {
    "name": "ipython",
    "version": 3
   },
   "file_extension": ".py",
   "mimetype": "text/x-python",
   "name": "python",
   "nbconvert_exporter": "python",
   "pygments_lexer": "ipython3",
   "version": "3.6.3"
  }
 },
 "nbformat": 4,
 "nbformat_minor": 2
}
