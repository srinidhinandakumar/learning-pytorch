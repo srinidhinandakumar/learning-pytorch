{
 "cells": [
  {
   "cell_type": "markdown",
   "metadata": {},
   "source": [
    "# Vanilla Neural Networks"
   ]
  },
  {
   "cell_type": "markdown",
   "metadata": {},
   "source": [
    "**Task: **Building a vanilla neural network to predict if the four pixes represent a stairs format given the color values of each pixel (0 to 255)\n",
    "\n",
    "**Steps:** Establish forward and backpropagation, and test results for different activation functions.\n",
    "\n",
    "**Details:-**\n",
    "- Activation functions used:\n",
    "        -Sigmoid\n",
    "        -ReLU\n",
    "        -Softplus\n",
    "        -Tanh\n",
    "- Input : 4 pixel color values\n",
    "- Hidden Layer: 1 hidden layer with 2 neurons- left and right\n",
    "- Output Layer: 1 output\n",
    "- Loss function: Gradient descent\n",
    "- Parameters: activation function, network structure (number of inputs and weights + number of hidden layers), learning rate and number of epochs"
   ]
  },
  {
   "cell_type": "markdown",
   "metadata": {},
   "source": [
    "## Modules"
   ]
  },
  {
   "cell_type": "code",
   "execution_count": 1,
   "metadata": {
    "collapsed": true
   },
   "outputs": [],
   "source": [
    "import math\n",
    "import pprint\n",
    "from sklearn.metrics import f1_score, accuracy_score"
   ]
  },
  {
   "cell_type": "markdown",
   "metadata": {},
   "source": [
    "### Activations"
   ]
  },
  {
   "cell_type": "code",
   "execution_count": 2,
   "metadata": {
    "collapsed": true
   },
   "outputs": [],
   "source": [
    "def sigmoid_activation(z):\n",
    "    try:\n",
    "        ans = math.exp(-z)\n",
    "    except OverflowError:\n",
    "        if(z<0):\n",
    "            ans = math.exp(float('inf'))\n",
    "        else:\n",
    "            ans = math.exp(-float('inf'))\n",
    "    \n",
    "    return 1/(1+ans)"
   ]
  },
  {
   "cell_type": "code",
   "execution_count": 3,
   "metadata": {
    "collapsed": true
   },
   "outputs": [],
   "source": [
    "def relu(z):\n",
    "    return max(0,z)"
   ]
  },
  {
   "cell_type": "code",
   "execution_count": 4,
   "metadata": {
    "collapsed": true
   },
   "outputs": [],
   "source": [
    "def softplus(z):\n",
    "    # softplus function = log(1+exp(x)) -> smooth approximation of relu that can be differentiated\n",
    "    try:\n",
    "        ans = math.exp(z)\n",
    "    except OverflowError:\n",
    "        if(z<0):\n",
    "            ans = math.exp(-float('inf'))\n",
    "        else:\n",
    "            ans = math.exp(float('inf'))\n",
    "    return math.log(1+ans)"
   ]
  },
  {
   "cell_type": "code",
   "execution_count": 5,
   "metadata": {
    "collapsed": true
   },
   "outputs": [],
   "source": [
    "def tanh(z):\n",
    "    try:\n",
    "        ans = math.exp(z)\n",
    "        negans = math.exp(-z)\n",
    "    except OverflowError:\n",
    "        if(z<0):\n",
    "            ans = math.exp(-float('inf'))\n",
    "            negans = math.exp(float('inf'))\n",
    "        else:\n",
    "            ans = math.exp(float('inf'))\n",
    "            negans = math.exp(-float('inf'))\n",
    "    return (ans-negans)/(ans+negans)"
   ]
  },
  {
   "cell_type": "markdown",
   "metadata": {},
   "source": [
    "### Neurons"
   ]
  },
  {
   "cell_type": "code",
   "execution_count": 6,
   "metadata": {
    "collapsed": true
   },
   "outputs": [],
   "source": [
    "def neuron_sigmoid(x,w,b):\n",
    "    z=0\n",
    "    for x_,w_ in zip(x,w):\n",
    "        z+=x_*w_\n",
    "    z+=b\n",
    "    y = sigmoid_activation(z)\n",
    "    return y"
   ]
  },
  {
   "cell_type": "code",
   "execution_count": 7,
   "metadata": {
    "collapsed": true
   },
   "outputs": [],
   "source": [
    "def neuron_relu(x,w,b):\n",
    "    z=0\n",
    "    for x_,w_ in zip(x,w):\n",
    "        z+=x_*w_\n",
    "    z+=b\n",
    "    y = relu(z)\n",
    "    return y"
   ]
  },
  {
   "cell_type": "code",
   "execution_count": 8,
   "metadata": {
    "collapsed": true
   },
   "outputs": [],
   "source": [
    "def neuron_softplus(x,w,b):\n",
    "    z=0\n",
    "    for x_,w_ in zip(x,w):\n",
    "        z+=x_*w_\n",
    "    z+=b\n",
    "    y = softplus(z)\n",
    "    return y"
   ]
  },
  {
   "cell_type": "code",
   "execution_count": 9,
   "metadata": {
    "collapsed": true
   },
   "outputs": [],
   "source": [
    "def neuron_tanh(x,w,b):\n",
    "    z=0\n",
    "    for x_,w_ in zip(x,w):\n",
    "        z+=x_*w_\n",
    "    z+=b\n",
    "    y = tanh(z)\n",
    "    return y"
   ]
  },
  {
   "cell_type": "markdown",
   "metadata": {},
   "source": [
    "### Predict if stairs "
   ]
  },
  {
   "cell_type": "code",
   "execution_count": 10,
   "metadata": {
    "collapsed": true
   },
   "outputs": [],
   "source": [
    "def predict(y):\n",
    "    if y>0.5:\n",
    "        # print(\"Stairs\")\n",
    "        return 1\n",
    "    else:\n",
    "        # print(\"Not Stairs\")\n",
    "        return 0"
   ]
  },
  {
   "cell_type": "code",
   "execution_count": 11,
   "metadata": {
    "collapsed": true
   },
   "outputs": [],
   "source": [
    "def stairs_sigmoid(network, x):\n",
    "    y_left = neuron_sigmoid(x, network[\"w_1\"], network[\"b_left\"])\n",
    "    y_right = neuron_sigmoid(x, network[\"w_2\"], network[\"b_right\"])\n",
    "    y_exp = neuron_sigmoid([y_left, y_right], [network[\"w_left\"], network[\"w_right\"]], network[\"b\"])\n",
    "    return predict(y_exp),y_exp"
   ]
  },
  {
   "cell_type": "code",
   "execution_count": 12,
   "metadata": {
    "collapsed": true
   },
   "outputs": [],
   "source": [
    "def stairs_relu(network, x):\n",
    "    y_left = neuron_relu(x, network[\"w_1\"], network[\"b_left\"])\n",
    "    y_right = neuron_relu(x, network[\"w_2\"], network[\"b_right\"])\n",
    "    y_exp = neuron_relu([y_left, y_right], [network[\"w_left\"], network[\"w_right\"]], network[\"b\"])\n",
    "    return predict(y_exp),y_exp"
   ]
  },
  {
   "cell_type": "code",
   "execution_count": 13,
   "metadata": {
    "collapsed": true
   },
   "outputs": [],
   "source": [
    "def stairs_softplus(network, x):\n",
    "    y_left = neuron_softplus(x, network[\"w_1\"], network[\"b_left\"])\n",
    "    y_right = neuron_softplus(x, network[\"w_2\"], network[\"b_right\"])\n",
    "    y_exp = neuron_softplus([y_left, y_right], [network[\"w_left\"], network[\"w_right\"]], network[\"b\"])\n",
    "    return predict(y_exp),y_exp"
   ]
  },
  {
   "cell_type": "code",
   "execution_count": 14,
   "metadata": {
    "collapsed": true
   },
   "outputs": [],
   "source": [
    "def stairs_tanh(network, x):\n",
    "    y_left = neuron_tanh(x, network[\"w_1\"], network[\"b_left\"])\n",
    "    y_right = neuron_tanh(x, network[\"w_2\"], network[\"b_right\"])\n",
    "    y_exp = neuron_tanh([y_left, y_right], [network[\"w_left\"], network[\"w_right\"]], network[\"b\"])\n",
    "    return predict(y_exp),y_exp"
   ]
  },
  {
   "cell_type": "markdown",
   "metadata": {},
   "source": [
    "### Preprocess input"
   ]
  },
  {
   "cell_type": "code",
   "execution_count": 15,
   "metadata": {
    "collapsed": true
   },
   "outputs": [],
   "source": [
    "def preprocess(data):\n",
    "    preprocessed_data = dict()\n",
    "    for d in data:\n",
    "        line = d.split(\",\")\n",
    "        preprocessed_data[line[0]] = dict()\n",
    "        preprocessed_data[line[0]][\"y\"] = int(line[-1])# label\n",
    "        preprocessed_data[line[0]][\"x\"] = [int(line[1]),int(line[2]),int(line[3]),int(line[4])]\n",
    "    return preprocessed_data"
   ]
  },
  {
   "cell_type": "markdown",
   "metadata": {},
   "source": [
    "### Feed Forward "
   ]
  },
  {
   "cell_type": "code",
   "execution_count": 16,
   "metadata": {
    "collapsed": true
   },
   "outputs": [],
   "source": [
    "def forward_propagate(network, data, activation):\n",
    "    if activation == \"sigmoid\":\n",
    "        y_exp, val = stairs_sigmoid(network, data[\"x\"])\n",
    "    elif activation == \"relu\":\n",
    "        y_exp, val = stairs_relu(network, data[\"x\"])\n",
    "    elif activation == \"softplus\":\n",
    "        y_exp, val = stairs_softplus(network, data[\"x\"])\n",
    "    elif activation == \"tanh\":\n",
    "        y_exp, val = stairs_tanh(network, data[\"x\"])\n",
    "    data[\"y-exp\"] = y_exp\n",
    "    data[\"neuron-op\"] = val\n",
    "    #pprint.pprint(data)\n",
    "    return data"
   ]
  },
  {
   "cell_type": "markdown",
   "metadata": {},
   "source": [
    "### Derivatives of Activation functions for backpropagation"
   ]
  },
  {
   "cell_type": "code",
   "execution_count": 17,
   "metadata": {
    "collapsed": true
   },
   "outputs": [],
   "source": [
    "def derivative_sigmoid(z):\n",
    "    return z*(1-z)"
   ]
  },
  {
   "cell_type": "code",
   "execution_count": 18,
   "metadata": {
    "collapsed": true
   },
   "outputs": [],
   "source": [
    "def derivative_relu(z):\n",
    "    if z>0:\n",
    "        return 1\n",
    "    else:\n",
    "        return 0 # ReLU is undefined at z = 0 but here it's taken 0 for simplicity"
   ]
  },
  {
   "cell_type": "code",
   "execution_count": 19,
   "metadata": {
    "collapsed": true
   },
   "outputs": [],
   "source": [
    "def derivative_softplus(z):\n",
    "    return (math.exp(z) - 1)/math.exp(z)"
   ]
  },
  {
   "cell_type": "code",
   "execution_count": 20,
   "metadata": {
    "collapsed": true
   },
   "outputs": [],
   "source": [
    "def derivative_tanh(z):\n",
    "    return 1 - math.pow(z,2)"
   ]
  },
  {
   "cell_type": "markdown",
   "metadata": {},
   "source": [
    "### Backpropagation errors"
   ]
  },
  {
   "cell_type": "code",
   "execution_count": 21,
   "metadata": {
    "collapsed": true
   },
   "outputs": [],
   "source": [
    "def backprob_error_sigmoid(data):\n",
    "    data[\"backprob-error\"] = (data[\"y\"] - data[\"y-exp\"])*derivative_sigmoid(data[\"neuron-op\"])\n",
    "    return data"
   ]
  },
  {
   "cell_type": "code",
   "execution_count": 22,
   "metadata": {
    "collapsed": true
   },
   "outputs": [],
   "source": [
    "def backprob_error_relu(data):\n",
    "    data[\"backprob-error\"] = (data[\"y\"] - data[\"y-exp\"])*derivative_relu(data[\"neuron-op\"])\n",
    "    return data"
   ]
  },
  {
   "cell_type": "code",
   "execution_count": 23,
   "metadata": {
    "collapsed": true
   },
   "outputs": [],
   "source": [
    "def backprob_error_softplus(data):\n",
    "    data[\"backprob-error\"] = (data[\"y\"] - data[\"y-exp\"])*derivative_softplus(data[\"neuron-op\"])\n",
    "    return data"
   ]
  },
  {
   "cell_type": "code",
   "execution_count": 24,
   "metadata": {
    "collapsed": true
   },
   "outputs": [],
   "source": [
    "def backprob_error_tanh(data):\n",
    "    data[\"backprob-error\"] = (data[\"y\"] - data[\"y-exp\"])*derivative_tanh(data[\"neuron-op\"])\n",
    "    return data"
   ]
  },
  {
   "cell_type": "markdown",
   "metadata": {},
   "source": [
    "### Back propagation"
   ]
  },
  {
   "cell_type": "code",
   "execution_count": 25,
   "metadata": {
    "collapsed": true
   },
   "outputs": [],
   "source": [
    "def back_propagate(data, activation):\n",
    "    if activation == \"sigmoid\":\n",
    "        res = backprob_error_sigmoid(data)\n",
    "    elif activation == \"relu\":\n",
    "        res = backprob_error_relu(data)\n",
    "    elif activation == \"softplus\":\n",
    "        res = backprob_error_softplus(data)\n",
    "    elif activation == \"tanh\":\n",
    "        res = backprob_error_tanh(data)\n",
    "    return res"
   ]
  },
  {
   "cell_type": "markdown",
   "metadata": {},
   "source": [
    "### Update weights "
   ]
  },
  {
   "cell_type": "code",
   "execution_count": 26,
   "metadata": {
    "collapsed": true
   },
   "outputs": [],
   "source": [
    "def update_weights(weights,l_rate,data, activation):\n",
    "    new_weights = []\n",
    "    if activation == \"sigmoid\":\n",
    "        derivative = derivative_sigmoid(data[\"neuron-op\"])\n",
    "    elif activation == \"relu\":\n",
    "        derivative = derivative_relu(data[\"neuron-op\"])\n",
    "    elif activation == \"softplus\":\n",
    "        derivative = derivative_softplus(data[\"neuron-op\"])\n",
    "    elif activation == \"tanh\":\n",
    "        derivative = derivative_tanh(data[\"neuron-op\"])\n",
    "    \n",
    "    for weight,x in zip(weights, data[\"x\"]):\n",
    "        w_error = weight*data[\"backprob-error\"]*derivative\n",
    "        w = weight+w_error*l_rate*x\n",
    "        new_weights.append(w)\n",
    "    return new_weights"
   ]
  },
  {
   "cell_type": "markdown",
   "metadata": {},
   "source": [
    "### Train Network"
   ]
  },
  {
   "cell_type": "code",
   "execution_count": 39,
   "metadata": {
    "collapsed": true
   },
   "outputs": [],
   "source": [
    "def train(network, data, n_epochs, l_rate, activation):\n",
    "    items = list(reversed(list(data.keys())))\n",
    "    n = len(items)\n",
    "    for epoch in range(n_epochs):\n",
    "        sum_error = 0\n",
    "        for item in items:\n",
    "            data[item] = forward_propagate(network, data[item], activation)\n",
    "            data[item] = back_propagate(data[item], activation)\n",
    "            sum_error+=math.pow((data[item][\"y-exp\"]-data[item][\"y\"]),2)\n",
    "            network[\"w_1\"] = update_weights(network[\"w_1\"],l_rate,data[item], activation)\n",
    "            #print(\"Weights Left: \",str(network[\"w_1\"]))\n",
    "            network[\"w_2\"] = update_weights(network[\"w_2\"],l_rate,data[item], activation)\n",
    "            #print(\"Weights Right: \",str(network[\"w_2\"]))\n",
    "#             print(\"Network weights:\")\n",
    "#             pprint.pprint(network)\n",
    "#             pprint.pprint(data[item])\n",
    "        sum_error/=n\n",
    "        print(\"epoch = %d mean squared error = %0.5f learning rate = %0.10f\"%(epoch, sum_error, l_rate))"
   ]
  },
  {
   "cell_type": "markdown",
   "metadata": {},
   "source": [
    "### Test Data"
   ]
  },
  {
   "cell_type": "code",
   "execution_count": 28,
   "metadata": {
    "collapsed": true
   },
   "outputs": [],
   "source": [
    "def test(network, data, activation):\n",
    "    for item in data:\n",
    "        data[item] = forward_propagate(network, data[item], activation)\n",
    "    return data"
   ]
  },
  {
   "cell_type": "markdown",
   "metadata": {},
   "source": [
    "### Extract and Evaluate test results"
   ]
  },
  {
   "cell_type": "code",
   "execution_count": 29,
   "metadata": {
    "collapsed": true
   },
   "outputs": [],
   "source": [
    "def extract(data):\n",
    "    y_true = []\n",
    "    y_out = []\n",
    "    for item in data:\n",
    "        y_true.append(data[item][\"y\"])\n",
    "        y_out.append(data[item][\"y-exp\"])\n",
    "    return y_true, y_out"
   ]
  },
  {
   "cell_type": "code",
   "execution_count": 30,
   "metadata": {
    "collapsed": true
   },
   "outputs": [],
   "source": [
    "def evaluate(y_true, y_out):\n",
    "    return f1_score(y_true, y_out, average='macro'), accuracy_score(y_pred=y_out, y_true=y_true)"
   ]
  },
  {
   "cell_type": "markdown",
   "metadata": {},
   "source": [
    "## Process"
   ]
  },
  {
   "cell_type": "code",
   "execution_count": 31,
   "metadata": {
    "collapsed": true
   },
   "outputs": [],
   "source": [
    "traindata = open(\"train.csv\").read().split(\"\\n\")[1:] "
   ]
  },
  {
   "cell_type": "code",
   "execution_count": 32,
   "metadata": {
    "collapsed": true
   },
   "outputs": [],
   "source": [
    "testdata = open(\"test.csv\").read().split(\"\\n\")[1:]\n",
    "test_sig = preprocess(testdata)\n",
    "test_rel = preprocess(testdata)\n",
    "test_sof = preprocess(testdata)\n",
    "test_tan = preprocess(testdata)"
   ]
  },
  {
   "cell_type": "code",
   "execution_count": 33,
   "metadata": {
    "collapsed": true
   },
   "outputs": [],
   "source": [
    "# random initialization of network\n",
    "network = dict()\n",
    "network[\"w_1\"] = [0.002, -0.050, 0.012, 0.012]\n",
    "network[\"w_2\"] = [-0.05, 0.002, 0.012, 0.012]\n",
    "network[\"w_left\"] = 3\n",
    "network[\"w_right\"] = 3\n",
    "network[\"b_left\"] = -0.5\n",
    "network[\"b_right\"] = -0.5\n",
    "network[\"b\"] = -1\n",
    "# print(\"Network weights:\")\n",
    "# pprint.pprint(network)"
   ]
  },
  {
   "cell_type": "markdown",
   "metadata": {},
   "source": [
    "### Sigmoid Network"
   ]
  },
  {
   "cell_type": "code",
   "execution_count": 47,
   "metadata": {},
   "outputs": [
    {
     "name": "stdout",
     "output_type": "stream",
     "text": [
      "epoch = 0 mean squared error = 0.22250 learning rate = 0.0000255110\n",
      "epoch = 1 mean squared error = 0.22250 learning rate = 0.0000255110\n",
      "epoch = 2 mean squared error = 0.22250 learning rate = 0.0000255110\n",
      "epoch = 3 mean squared error = 0.22250 learning rate = 0.0000255110\n",
      "epoch = 4 mean squared error = 0.22250 learning rate = 0.0000255110\n",
      "epoch = 5 mean squared error = 0.22250 learning rate = 0.0000255110\n",
      "epoch = 6 mean squared error = 0.22250 learning rate = 0.0000255110\n",
      "epoch = 7 mean squared error = 0.22250 learning rate = 0.0000255110\n",
      "epoch = 8 mean squared error = 0.22000 learning rate = 0.0000255110\n",
      "epoch = 9 mean squared error = 0.22000 learning rate = 0.0000255110\n",
      "epoch = 10 mean squared error = 0.22000 learning rate = 0.0000255110\n",
      "epoch = 11 mean squared error = 0.22000 learning rate = 0.0000255110\n",
      "epoch = 12 mean squared error = 0.22000 learning rate = 0.0000255110\n",
      "epoch = 13 mean squared error = 0.22000 learning rate = 0.0000255110\n",
      "epoch = 14 mean squared error = 0.22000 learning rate = 0.0000255110\n",
      "epoch = 15 mean squared error = 0.22000 learning rate = 0.0000255110\n",
      "epoch = 16 mean squared error = 0.22000 learning rate = 0.0000255110\n",
      "epoch = 17 mean squared error = 0.22000 learning rate = 0.0000255110\n",
      "epoch = 18 mean squared error = 0.22000 learning rate = 0.0000255110\n",
      "epoch = 19 mean squared error = 0.22000 learning rate = 0.0000255110\n",
      "epoch = 20 mean squared error = 0.22000 learning rate = 0.0000255110\n",
      "epoch = 21 mean squared error = 0.22000 learning rate = 0.0000255110\n",
      "epoch = 22 mean squared error = 0.22000 learning rate = 0.0000255110\n",
      "epoch = 23 mean squared error = 0.22000 learning rate = 0.0000255110\n",
      "epoch = 24 mean squared error = 0.22000 learning rate = 0.0000255110\n",
      "F1 Score: 0.74064\tAccuracy: 0.750\n"
     ]
    }
   ],
   "source": [
    "preprocessed_sig = preprocess(traindata)\n",
    "network[\"w_1\"] = [0.002, -0.050, 0.012, 0.012]\n",
    "network[\"w_2\"] = [-0.05, 0.002, 0.012, 0.012]\n",
    "train(network, preprocessed_sig, 25, 0.000025511, \"sigmoid\")\n",
    "result = test(network, test_sig, \"sigmoid\")\n",
    "y_true, y_out = extract(result)\n",
    "f1, acc = evaluate(y_true,y_out)\n",
    "print(\"F1 Score: %0.5f\\tAccuracy: %0.3f\"%(f1,acc))"
   ]
  },
  {
   "cell_type": "markdown",
   "metadata": {},
   "source": [
    "### ReLU Network"
   ]
  },
  {
   "cell_type": "code",
   "execution_count": 35,
   "metadata": {},
   "outputs": [
    {
     "name": "stdout",
     "output_type": "stream",
     "text": [
      "epoch = 0 mean squared error = 0.08500 learning rate = 0.002000\n",
      "epoch = 1 mean squared error = 0.07250 learning rate = 0.002000\n",
      "epoch = 2 mean squared error = 0.09750 learning rate = 0.002000\n",
      "epoch = 3 mean squared error = 0.04750 learning rate = 0.002000\n",
      "epoch = 4 mean squared error = 0.08500 learning rate = 0.002000\n",
      "F1 Score: 0.98997\tAccuracy: 0.990\n"
     ]
    }
   ],
   "source": [
    "preprocessed_relu = preprocess(traindata)\n",
    "network[\"w_1\"] = [0.002, -0.050, 0.012, 0.012]\n",
    "network[\"w_2\"] = [-0.05, 0.002, 0.012, 0.012]\n",
    "train(network, preprocessed_relu, 5, 0.002, \"relu\")\n",
    "result = test(network, test_rel, \"relu\")\n",
    "y_true, y_out = extract(result)### Sigmoid Network\n",
    "f1, acc = evaluate(y_true,y_out)\n",
    "print(\"F1 Score: %0.5f\\tAccuracy: %0.3f\"%(f1,acc))"
   ]
  },
  {
   "cell_type": "markdown",
   "metadata": {},
   "source": [
    "### Softplus Network"
   ]
  },
  {
   "cell_type": "code",
   "execution_count": 36,
   "metadata": {},
   "outputs": [
    {
     "name": "stdout",
     "output_type": "stream",
     "text": [
      "epoch = 0 mean squared error = 0.26750 learning rate = 0.000002\n",
      "epoch = 1 mean squared error = 0.26750 learning rate = 0.000002\n",
      "epoch = 2 mean squared error = 0.26750 learning rate = 0.000002\n",
      "epoch = 3 mean squared error = 0.26750 learning rate = 0.000002\n",
      "epoch = 4 mean squared error = 0.26750 learning rate = 0.000002\n",
      "epoch = 5 mean squared error = 0.26750 learning rate = 0.000002\n",
      "epoch = 6 mean squared error = 0.26750 learning rate = 0.000002\n",
      "epoch = 7 mean squared error = 0.26750 learning rate = 0.000002\n",
      "epoch = 8 mean squared error = 0.26750 learning rate = 0.000002\n",
      "epoch = 9 mean squared error = 0.26750 learning rate = 0.000002\n",
      "F1 Score: 0.72917\tAccuracy: 0.740\n"
     ]
    }
   ],
   "source": [
    "preprocessed_soft = preprocess(traindata)\n",
    "network[\"w_1\"] = [0.002, -0.050, 0.012, 0.012]\n",
    "network[\"w_2\"] = [-0.05, 0.002, 0.012, 0.012]\n",
    "train(network, preprocessed_soft, 10, 0.00000155, \"softplus\")\n",
    "result = test(network, test_sof, \"softplus\")\n",
    "y_true, y_out = extract(result)\n",
    "f1, acc = evaluate(y_true,y_out)\n",
    "print(\"F1 Score: %0.5f\\tAccuracy: %0.3f\"%(f1,acc))"
   ]
  },
  {
   "cell_type": "markdown",
   "metadata": {},
   "source": [
    "### Tanh Network"
   ]
  },
  {
   "cell_type": "code",
   "execution_count": 125,
   "metadata": {},
   "outputs": [
    {
     "name": "stdout",
     "output_type": "stream",
     "text": [
      "epoch = 0 mean squared error = 0.53750 learning rate = 0.0000217000\n",
      "epoch = 1 mean squared error = 0.54500 learning rate = 0.0000217000\n",
      "epoch = 2 mean squared error = 0.55000 learning rate = 0.0000217000\n",
      "epoch = 3 mean squared error = 0.56000 learning rate = 0.0000217000\n",
      "epoch = 4 mean squared error = 0.55250 learning rate = 0.0000217000\n",
      "epoch = 5 mean squared error = 0.51500 learning rate = 0.0000217000\n",
      "epoch = 6 mean squared error = 0.44750 learning rate = 0.0000217000\n",
      "epoch = 7 mean squared error = 0.37750 learning rate = 0.0000217000\n",
      "epoch = 8 mean squared error = 0.34000 learning rate = 0.0000217000\n",
      "epoch = 9 mean squared error = 0.30250 learning rate = 0.0000217000\n",
      "epoch = 10 mean squared error = 0.28750 learning rate = 0.0000217000\n",
      "epoch = 11 mean squared error = 0.28250 learning rate = 0.0000217000\n",
      "epoch = 12 mean squared error = 0.27500 learning rate = 0.0000217000\n",
      "epoch = 13 mean squared error = 0.26750 learning rate = 0.0000217000\n",
      "epoch = 14 mean squared error = 0.26250 learning rate = 0.0000217000\n",
      "F1 Score: 0.67949\tAccuracy: 0.680\n"
     ]
    }
   ],
   "source": [
    "preprocessed_tanh = preprocess(traindata)\n",
    "network[\"w_1\"] = [0.002, -0.050, 0.012, 0.012]\n",
    "network[\"w_2\"] = [-0.05, 0.002, 0.012, 0.012]\n",
    "train(network, preprocessed_tanh, 15, 0.00002170, \"tanh\")\n",
    "result = test(network, test_tan, \"tanh\")\n",
    "y_true, y_out = extract(result)\n",
    "f1, acc = evaluate(y_true,y_out)\n",
    "print(\"F1 Score: %0.5f\\tAccuracy: %0.3f\"%(f1,acc))"
   ]
  },
  {
   "cell_type": "markdown",
   "metadata": {},
   "source": [
    "### References:-\n",
    "\n",
    "    -http://blog.kaggle.com/2017/11/27/introduction-to-neural-networks/\n",
    "    -https://machinelearningmastery.com/implement-backpropagation-algorithm-scratch-python/\n",
    "    -https://en.wikipedia.org/wiki/Rectifier_(neural_networks)\n",
    "    -https://en.wikipedia.org/wiki/Hyperbolic_function#Hyperbolic_tangent\n",
    "    -https://www.quora.com/What-are-the-benefits-of-using-ReLU-over-softplus-as-activation-functions\n",
    "    -https://theclevermachine.wordpress.com/2014/09/08/derivation-derivatives-for-common-neural-network-activation-functions/"
   ]
  }
 ],
 "metadata": {
  "kernelspec": {
   "display_name": "Python 3",
   "language": "python",
   "name": "python3"
  },
  "language_info": {
   "codemirror_mode": {
    "name": "ipython",
    "version": 3
   },
   "file_extension": ".py",
   "mimetype": "text/x-python",
   "name": "python",
   "nbconvert_exporter": "python",
   "pygments_lexer": "ipython3",
   "version": "3.6.3"
  }
 },
 "nbformat": 4,
 "nbformat_minor": 2
}
