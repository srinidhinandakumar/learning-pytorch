{
 "cells": [
  {
   "cell_type": "code",
   "execution_count": 1,
   "metadata": {
    "collapsed": true
   },
   "outputs": [],
   "source": [
    "import math"
   ]
  },
  {
   "cell_type": "markdown",
   "metadata": {},
   "source": [
    "## Activation Functions"
   ]
  },
  {
   "cell_type": "markdown",
   "metadata": {},
   "source": [
    "#### Sigmoid"
   ]
  },
  {
   "cell_type": "code",
   "execution_count": 2,
   "metadata": {
    "collapsed": true
   },
   "outputs": [],
   "source": [
    "def sigmoid_activation(z):\n",
    "    return 1/(1+math.exp(-z))"
   ]
  },
  {
   "cell_type": "markdown",
   "metadata": {},
   "source": [
    "#### ReLU"
   ]
  },
  {
   "cell_type": "markdown",
   "metadata": {},
   "source": [
    "Rectified linear units = max(0,x)\n",
    "\n",
    "Different types:-\n",
    "- Simple ReLU : max(0,x)\n",
    "- Leaky ReLU : \n",
    "  - f(x) = x x>0\n",
    "  - f(x) = 0.01x otherwise\n",
    "- Noisy ReLU : max (0, x+Y) where Y ~ N(0,sigma(x)) [N: Guassian Noise] \n",
    "- Parametric ReLU : \n",
    "  - [a>1]\n",
    "  \n",
    "     f(x) = x x>0\n",
    "     \n",
    "     f(x) = ax otherwise\n",
    "     \n",
    "  - [a<=1]\n",
    "  \n",
    "     max(x,ax)  "
   ]
  },
  {
   "cell_type": "code",
   "execution_count": 3,
   "metadata": {
    "collapsed": true
   },
   "outputs": [],
   "source": [
    "def relu(z):\n",
    "    return max(0,z)"
   ]
  },
  {
   "cell_type": "markdown",
   "metadata": {},
   "source": [
    "#### Softplus"
   ]
  },
  {
   "cell_type": "code",
   "execution_count": 4,
   "metadata": {
    "collapsed": true
   },
   "outputs": [],
   "source": [
    "def softplus(z):\n",
    "    # softplus function = log(1+exp(x)) -> smooth approximation of relu that can be differentiated\n",
    "    return math.log(1+math.exp(z))"
   ]
  },
  {
   "cell_type": "markdown",
   "metadata": {},
   "source": [
    "#### Tanh (Hyperbolic function)"
   ]
  },
  {
   "cell_type": "code",
   "execution_count": 5,
   "metadata": {
    "collapsed": true
   },
   "outputs": [],
   "source": [
    "def tanh(z):\n",
    "    return (math.exp(z)-math.exp(-z))/(math.exp(z)+math.exp(-z))"
   ]
  },
  {
   "cell_type": "markdown",
   "metadata": {},
   "source": [
    "## Neurons"
   ]
  },
  {
   "cell_type": "code",
   "execution_count": 6,
   "metadata": {
    "collapsed": true
   },
   "outputs": [],
   "source": [
    "def neuron_sigmoid(x,w,b):\n",
    "    z=0\n",
    "    for x_,w_ in zip(x,w):\n",
    "        z+=x_*w_\n",
    "    z+=b\n",
    "    y = sigmoid_activation(z)\n",
    "    return y"
   ]
  },
  {
   "cell_type": "code",
   "execution_count": 7,
   "metadata": {
    "collapsed": true
   },
   "outputs": [],
   "source": [
    "def neuron_relu(x,w,b):\n",
    "    z=0\n",
    "    for x_,w_ in zip(x,w):\n",
    "        z+=x_*w_\n",
    "    z+=b\n",
    "    y = relu(z)\n",
    "    return y"
   ]
  },
  {
   "cell_type": "code",
   "execution_count": 8,
   "metadata": {
    "collapsed": true
   },
   "outputs": [],
   "source": [
    "def neuron_softplus(x,w,b):\n",
    "    z=0\n",
    "    for x_,w_ in zip(x,w):\n",
    "        z+=x_*w_\n",
    "    z+=b\n",
    "    y = softplus(z)\n",
    "    return y"
   ]
  },
  {
   "cell_type": "code",
   "execution_count": 9,
   "metadata": {
    "collapsed": true
   },
   "outputs": [],
   "source": [
    "def neuron_tanh(x,w,b):\n",
    "    z=0\n",
    "    for x_,w_ in zip(x,w):\n",
    "        z+=x_*w_\n",
    "    z+=b\n",
    "    y = tanh(z)\n",
    "    return y"
   ]
  },
  {
   "cell_type": "markdown",
   "metadata": {},
   "source": [
    "## Prediction"
   ]
  },
  {
   "cell_type": "code",
   "execution_count": 10,
   "metadata": {
    "collapsed": true
   },
   "outputs": [],
   "source": [
    "def predict(y):\n",
    "    if y>0.5:\n",
    "        return \"Stairs\"\n",
    "    else:\n",
    "        return \"Not Stairs\""
   ]
  },
  {
   "cell_type": "code",
   "execution_count": 11,
   "metadata": {
    "collapsed": true
   },
   "outputs": [],
   "source": [
    "def stairs_sigmoid(x):\n",
    "    y_left = neuron_sigmoid(x, w_1, b_left)\n",
    "    y_right = neuron_sigmoid(x, w_2, b_right)\n",
    "    y_exp = neuron_sigmoid([y_left, y_right], [w_left, w_right], b)\n",
    "    print(predict(y_exp))"
   ]
  },
  {
   "cell_type": "code",
   "execution_count": 12,
   "metadata": {
    "collapsed": true
   },
   "outputs": [],
   "source": [
    "def stairs_relu(x):\n",
    "    y_left = neuron_relu(x, w_1, b_left)\n",
    "    y_right = neuron_relu(x, w_2, b_right)\n",
    "    y_exp = neuron_relu([y_left, y_right], [w_left, w_right], b)\n",
    "    print(predict(y_exp))"
   ]
  },
  {
   "cell_type": "code",
   "execution_count": 13,
   "metadata": {
    "collapsed": true
   },
   "outputs": [],
   "source": [
    "def stairs_softplus(x):\n",
    "    y_left = neuron_softplus(x, w_1, b_left)\n",
    "    y_right = neuron_softplus(x, w_2, b_right)\n",
    "    y_exp = neuron_softplus([y_left, y_right], [w_left, w_right], b)\n",
    "    print(predict(y_exp))"
   ]
  },
  {
   "cell_type": "code",
   "execution_count": 14,
   "metadata": {
    "collapsed": true
   },
   "outputs": [],
   "source": [
    "def stairs_tanh(x):\n",
    "    y_left = neuron_tanh(x, w_1, b_left)\n",
    "    y_right = neuron_tanh(x, w_2, b_right)\n",
    "    y_exp = neuron_tanh([y_left, y_right], [w_left, w_right], b)\n",
    "    print(predict(y_exp))"
   ]
  },
  {
   "cell_type": "markdown",
   "metadata": {},
   "source": [
    "## Solution"
   ]
  },
  {
   "cell_type": "code",
   "execution_count": 15,
   "metadata": {
    "collapsed": true
   },
   "outputs": [],
   "source": [
    "w_1 = [0.002, -0.050, 0.012, 0.012]\n",
    "w_2 = [-0.05, 0.002, 0.012, 0.012]\n",
    "w_left = 3\n",
    "w_right = 3\n",
    "b_left = -0.5\n",
    "b_right = -0.5\n",
    "b = -1"
   ]
  },
  {
   "cell_type": "code",
   "execution_count": 16,
   "metadata": {
    "collapsed": true
   },
   "outputs": [],
   "source": [
    "x1 = [115, 130, 80, 88]\n",
    "x2 = [47, 250, 8, 88]\n",
    "x3 = [182, 5, 157, 155]"
   ]
  },
  {
   "cell_type": "code",
   "execution_count": 17,
   "metadata": {},
   "outputs": [
    {
     "name": "stdout",
     "output_type": "stream",
     "text": [
      "Not Stairs\n",
      "Not Stairs\n",
      "Not Stairs\n",
      "Not Stairs\n"
     ]
    }
   ],
   "source": [
    "stairs_sigmoid(x1)\n",
    "stairs_relu(x1)\n",
    "stairs_softplus(x1)\n",
    "stairs_tanh(x1)"
   ]
  },
  {
   "cell_type": "code",
   "execution_count": 18,
   "metadata": {},
   "outputs": [
    {
     "name": "stdout",
     "output_type": "stream",
     "text": [
      "Not Stairs\n",
      "Not Stairs\n",
      "Stairs\n",
      "Not Stairs\n"
     ]
    }
   ],
   "source": [
    "stairs_sigmoid(x2)\n",
    "stairs_relu(x2)\n",
    "stairs_softplus(x2)\n",
    "stairs_tanh(x2)"
   ]
  },
  {
   "cell_type": "code",
   "execution_count": 19,
   "metadata": {},
   "outputs": [
    {
     "name": "stdout",
     "output_type": "stream",
     "text": [
      "Stairs\n",
      "Stairs\n",
      "Stairs\n",
      "Not Stairs\n"
     ]
    }
   ],
   "source": [
    "stairs_sigmoid(x3)\n",
    "stairs_relu(x3)\n",
    "stairs_softplus(x3)\n",
    "stairs_tanh(x3)"
   ]
  },
  {
   "cell_type": "code",
   "execution_count": null,
   "metadata": {
    "collapsed": true
   },
   "outputs": [],
   "source": []
  }
 ],
 "metadata": {
  "kernelspec": {
   "display_name": "Python 3",
   "language": "python",
   "name": "python3"
  },
  "language_info": {
   "codemirror_mode": {
    "name": "ipython",
    "version": 3
   },
   "file_extension": ".py",
   "mimetype": "text/x-python",
   "name": "python",
   "nbconvert_exporter": "python",
   "pygments_lexer": "ipython3",
   "version": "3.6.3"
  }
 },
 "nbformat": 4,
 "nbformat_minor": 2
}
